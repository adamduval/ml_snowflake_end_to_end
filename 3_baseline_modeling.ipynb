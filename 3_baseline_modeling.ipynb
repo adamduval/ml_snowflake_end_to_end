{
 "cells": [
  {
   "cell_type": "code",
   "execution_count": 2,
   "metadata": {},
   "outputs": [],
   "source": [
    "from snowflake.snowpark import Session"
   ]
  },
  {
   "cell_type": "code",
   "execution_count": 3,
   "metadata": {},
   "outputs": [],
   "source": [
    "# Create session connection\n",
    "session = Session.builder.config(\"connection_name\", \"mlconnection\").create()"
   ]
  },
  {
   "cell_type": "markdown",
   "metadata": {},
   "source": [
    "# Create Basic Forecast"
   ]
  },
  {
   "cell_type": "code",
   "execution_count": 9,
   "metadata": {},
   "outputs": [],
   "source": [
    "create_model_sql = \"\"\"\n",
    "CREATE OR REPLACE SNOWFLAKE.ML.FORECAST cat_1_forecast(\n",
    "    INPUT_DATA => SYSTEM$REFERENCE(\"table\", \"data_model_one\"),\n",
    "    SERIES_COLNAME => \"site\",\n",
    "    TIMESTAMP_COLNAME => \"end_date\",\n",
    "    TARGET_COLNAME => \"category_1\"\n",
    ");\n",
    "\"\"\""
   ]
  },
  {
   "cell_type": "code",
   "execution_count": null,
   "metadata": {},
   "outputs": [],
   "source": [
    "\n",
    "call_model_sql = \"\"\"CALL cat_1_forecast ! FORECAST(FORECASTING_PERIODS => 12);\"\"\""
   ]
  },
  {
   "cell_type": "code",
   "execution_count": null,
   "metadata": {},
   "outputs": [],
   "source": [
    "create_results_table_sql=\"\"\"\n",
    "CREATE OR REPLACE TABLE cat_1_forecast AS\n",
    "SELECT\n",
    "    series AS site,\n",
    "    ts::date AS date,\n",
    "    forecast,\n",
    "    lower_bound,\n",
    "    upper_bound\n",
    "FROM\n",
    "    TABLE(RESULT_SCAN(-1));\n",
    "\"\"\""
   ]
  },
  {
   "cell_type": "code",
   "execution_count": null,
   "metadata": {},
   "outputs": [],
   "source": [
    "session.sql(create_model_sql).collect()"
   ]
  },
  {
   "cell_type": "code",
   "execution_count": null,
   "metadata": {},
   "outputs": [],
   "source": [
    "session.sql(call_model_sql).collect()"
   ]
  },
  {
   "cell_type": "code",
   "execution_count": null,
   "metadata": {},
   "outputs": [],
   "source": [
    "session.sql(create_results_table_sql).collect()"
   ]
  },
  {
   "cell_type": "code",
   "execution_count": null,
   "metadata": {},
   "outputs": [],
   "source": [
    "# View results table\n",
    "results_df = session.table(\"cat_1_forecast\")\n",
    "results_df.show()"
   ]
  }
 ],
 "metadata": {
  "kernelspec": {
   "display_name": ".venv",
   "language": "python",
   "name": "python3"
  },
  "language_info": {
   "codemirror_mode": {
    "name": "ipython",
    "version": 3
   },
   "file_extension": ".py",
   "mimetype": "text/x-python",
   "name": "python",
   "nbconvert_exporter": "python",
   "pygments_lexer": "ipython3",
   "version": "3.11.5"
  }
 },
 "nbformat": 4,
 "nbformat_minor": 2
}
