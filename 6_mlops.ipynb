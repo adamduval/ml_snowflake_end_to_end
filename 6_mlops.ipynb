{
 "cells": [
  {
   "cell_type": "code",
   "execution_count": 2,
   "metadata": {},
   "outputs": [],
   "source": [
    "import ast\n",
    "\n",
    "import pandas as pd\n",
    "\n",
    "from snowflake.ml.registry import Registry\n",
    "from snowflake.ml.modeling.model_selection import GridSearchCV"
   ]
  },
  {
   "cell_type": "code",
   "execution_count": null,
   "metadata": {},
   "outputs": [],
   "source": [
    "def iterate_model_name(df: pd.DataFrame, model_name: str) -> str:\n",
    "\n",
    "   \n",
    "    \"\"\"\n",
    "    Determine the next model version name based on the provided model name \n",
    "    and current versions in the DataFrame.\n",
    "\n",
    "    Generates a new version string based on the latest version present. \n",
    "    Returns \"V_1\" if the DataFrame is empty or the model name is not found. \n",
    "    Otherwise, increments the most recent version.\n",
    "\n",
    "    Args:\n",
    "        df (pd.DataFrame): DataFrame containing model information.\n",
    "        model_name (str): Name of the model to check and increment.\n",
    "\n",
    "    Returns:\n",
    "        str: The new model version string.\n",
    "    \"\"\"\n",
    "    \n",
    "    if df.empty:\n",
    "        # Return default version if DataFrame is empty\n",
    "        return \"V_1\"\n",
    "    \n",
    "    if df[df[\"name\"] == model_name].empty:\n",
    "        # Return default version if the model name is not found\n",
    "        return \"V_1\"\n",
    "    \n",
    "    # Extract the list of versions from the DataFrame and increment the latest version\n",
    "    versions_str = df[df[\"name\"] == model_name][\"versions\"].iloc[0]\n",
    "    versions_list = sorted(ast.literal_eval(versions_str))\n",
    "    last_version = versions_list[-1]\n",
    "    \n",
    "    # Extract prefix and number from the last version\n",
    "    prefix, number = last_version.rsplit(\"_\", 1)\n",
    "    new_number = int(number) + 1\n",
    "    \n",
    "    # Construct new version name\n",
    "    new_version = f\"{prefix}_{new_number}\"\n",
    "    \n",
    "    # Update the list with the new version and return it\n",
    "    versions_list[-1] = new_version\n",
    "    \n",
    "    return new_version"
   ]
  },
  {
   "cell_type": "code",
   "execution_count": null,
   "metadata": {},
   "outputs": [],
   "source": [
    "# Get optimal model\n",
    "optimal_model = GridSearchCV.to_sklearn().best_estimator_"
   ]
  },
  {
   "cell_type": "markdown",
   "metadata": {},
   "source": [
    "# Register Model"
   ]
  },
  {
   "cell_type": "code",
   "execution_count": null,
   "metadata": {},
   "outputs": [],
   "source": [
    "# Get sample input data to pass into the registry logging function\n",
    "X = train_df.drop(\"category_1_pct\", \"id\").limit(100)\n",
    "\n",
    "# Get registry to log the model\n",
    "reg = Registry(session=session)\n",
    "\n",
    "# Get current registered models\n",
    "reg_df = reg.show_models()\n",
    "\n",
    "# Define model name\n",
    "model_name = \"category_1_model\"\n",
    "\n",
    "# Get model version based on models in registry\n",
    "model_version = iterate_model_name(reg_df, model_name)"
   ]
  },
  {
   "cell_type": "markdown",
   "metadata": {},
   "source": [
    "# Log Model, Metrics and Hyperparameters"
   ]
  },
  {
   "cell_type": "code",
   "execution_count": null,
   "metadata": {},
   "outputs": [],
   "source": [
    "# Log Model\n",
    "category_1_model = reg.log_model(\n",
    "    model_name=model_name,\n",
    "    version_name=model_version,\n",
    "    model=optimal_model,\n",
    "    sample_input_data=X,\n",
    ")"
   ]
  },
  {
   "cell_type": "code",
   "execution_count": null,
   "metadata": {},
   "outputs": [],
   "source": [
    "# Log evaluation metric\n",
    "category_1_model.set_metric(\n",
    "    metric_name=\"mae\",\n",
    "    value=mae\n",
    ")"
   ]
  },
  {
   "cell_type": "code",
   "execution_count": null,
   "metadata": {},
   "outputs": [],
   "source": [
    "hyperparameters = {\n",
    "    k: v for k, v in optimal_model.get_params().items() \n",
    "    if v and k != \"missing\"\n",
    "}\n",
    "category_1_model.set_metric(\n",
    "    metric_name=\"hyperparameters\", \n",
    "    value=hyperparameters\n",
    ")"
   ]
  }
 ],
 "metadata": {
  "kernelspec": {
   "display_name": ".venv",
   "language": "python",
   "name": "python3"
  },
  "language_info": {
   "codemirror_mode": {
    "name": "ipython",
    "version": 3
   },
   "file_extension": ".py",
   "mimetype": "text/x-python",
   "name": "python",
   "nbconvert_exporter": "python",
   "pygments_lexer": "ipython3",
   "version": "3.11.5"
  }
 },
 "nbformat": 4,
 "nbformat_minor": 2
}
