{
 "cells": [
  {
   "cell_type": "code",
   "execution_count": 29,
   "metadata": {},
   "outputs": [],
   "source": [
    "import json\n",
    "import numpy as np\n",
    "import matplotlib.pyplot as plt\n",
    "import seaborn as sns\n",
    "from snowflake.snowpark import Session\n",
    "from snowflake.snowpark.functions import col\n",
    "from snowflake.snowpark.functions import mean, sum\n",
    "from snowflake.ml.modeling.metrics import correlation"
   ]
  },
  {
   "cell_type": "code",
   "execution_count": 58,
   "metadata": {},
   "outputs": [],
   "source": [
    "# Create session connection\n",
    "session = Session.builder.configs(json.load(open(\"connection.json\"))).create()"
   ]
  },
  {
   "cell_type": "code",
   "execution_count": 59,
   "metadata": {},
   "outputs": [],
   "source": [
    "# Lazy load raw dataframes\n",
    "raw_data_a = session.table('raw_data_a')\n",
    "raw_data_b = session.table('raw_data_b')"
   ]
  },
  {
   "cell_type": "markdown",
   "metadata": {},
   "source": [
    "# Basic EDA"
   ]
  },
  {
   "cell_type": "code",
   "execution_count": 60,
   "metadata": {},
   "outputs": [],
   "source": [
    "# Select and filter\n",
    "filtered_data = (\n",
    "    raw_data_a\n",
    "    .select(\"id\", \"lot\", \"site\")\n",
    "    .filter(col(\"lot\")\n",
    "    .is_not_null())\n",
    "    .distinct()\n",
    ")"
   ]
  },
  {
   "cell_type": "code",
   "execution_count": 61,
   "metadata": {},
   "outputs": [],
   "source": [
    "# Aggregate\n",
    "aggregate_data = (\n",
    "    raw_data_b\n",
    "    .filter(col(\"site\").is_not_null())\n",
    "    .filter(col(\"weight\").is_not_null())\n",
    "    .group_by(\"site\")\n",
    "    .agg([\n",
    "        mean(\"weight\").alias(\"avg_weight\"), \n",
    "        sum(\"count\").alias(\"total_count\")\n",
    "    ])\n",
    ")"
   ]
  },
  {
   "cell_type": "code",
   "execution_count": 62,
   "metadata": {},
   "outputs": [],
   "source": [
    "# Join\n",
    "joined_data = filtered_data.join(\n",
    "    aggregate_data, filtered_data.site == aggregate_data.site, lsuffix=\"_l\"\n",
    ").drop(\"site_l\")"
   ]
  },
  {
   "cell_type": "code",
   "execution_count": 63,
   "metadata": {},
   "outputs": [
    {
     "name": "stdout",
     "output_type": "stream",
     "text": [
      "--------------------------------------------------------------------------------------------------------------------------\n",
      "|\"SUMMARY\"  |\"ID\"                                  |\"LOT\"   |\"SITE\"             |\"AVG_WEIGHT\"        |\"TOTAL_COUNT\"      |\n",
      "--------------------------------------------------------------------------------------------------------------------------\n",
      "|count      |7621                                  |7621    |7621.0             |7621.0              |7621.0             |\n",
      "|stddev     |NULL                                  |NULL    |574.5908450201761  |11711.978793924818  |6607674.476405063  |\n",
      "|mean       |NULL                                  |NULL    |2819.388532        |33063.1033801827    |4959110.616848183  |\n",
      "|max        |FFF096F2-AC77-4D5B-B3AB-EB4FBCB4503B  |400008  |3810.0             |62829.6132950723    |35379885.0         |\n",
      "|min        |0003AFB1-A656-487F-B917-CC4A908A7C1E  |18153   |2010.0             |10236.626932515337  |7617.000000000002  |\n",
      "--------------------------------------------------------------------------------------------------------------------------\n",
      "\n"
     ]
    }
   ],
   "source": [
    "# Get summary statistics\n",
    "joined_data.describe().show()"
   ]
  },
  {
   "cell_type": "code",
   "execution_count": 64,
   "metadata": {},
   "outputs": [
    {
     "name": "stdout",
     "output_type": "stream",
     "text": [
      "---------------------------------------------------------------------------------------------------\n",
      "|\"ID\"                                  |\"LOT\"  |\"SITE\"  |\"AVG_WEIGHT\"        |\"TOTAL_COUNT\"       |\n",
      "---------------------------------------------------------------------------------------------------\n",
      "|270A248A-00B0-468A-8ACF-0AB389845D11  |22835  |2205    |45129.133115202916  |279460.0000000001   |\n",
      "|B666F575-E501-4A66-A099-9635AFDEF405  |19189  |2205    |45129.133115202916  |279460.0000000001   |\n",
      "|04641B78-1AF8-479A-84D5-AF74ED67CA9E  |22822  |2205    |45129.133115202916  |279460.0000000001   |\n",
      "|611EEF8C-2EAE-4B24-8181-001E7552D79B  |22786  |2205    |45129.133115202916  |279460.0000000001   |\n",
      "|3F904EE7-31A8-4AB6-B002-06B2DEF6CD39  |22908  |2205    |45129.133115202916  |279460.0000000001   |\n",
      "|C805FA1D-3FE6-4C30-BA9F-FEA45310C98C  |19176  |2540    |23246.542556083677  |177107.00000000003  |\n",
      "|799994FB-9707-4026-B2D5-78D9C27ACE77  |19731  |2540    |23246.542556083677  |177107.00000000003  |\n",
      "|C3A977E6-4D39-4E27-9396-C821F11A24B2  |19716  |2540    |23246.542556083677  |177107.00000000003  |\n",
      "|235AA301-056E-4E40-AA88-40379F8C5011  |19821  |2540    |23246.542556083677  |177107.00000000003  |\n",
      "|2D30F18A-091F-4E7A-80B6-E0E63447E8E9  |22567  |2540    |23246.542556083677  |177107.00000000003  |\n",
      "---------------------------------------------------------------------------------------------------\n",
      "\n"
     ]
    }
   ],
   "source": [
    "# View data\n",
    "joined_data.show()"
   ]
  },
  {
   "cell_type": "markdown",
   "metadata": {},
   "source": [
    "# Correlation"
   ]
  },
  {
   "cell_type": "code",
   "execution_count": 65,
   "metadata": {},
   "outputs": [
    {
     "name": "stderr",
     "output_type": "stream",
     "text": [
      "Got error object of type 'NoneType' has no len() when trying to read default values from function: <class 'snowflake.ml.modeling.metrics.metrics_utils.register_sharded_dot_sum_computer.<locals>.ShardedDotAndSumComputer'>. Proceeding without creating optional arguments\n",
      "Got error object of type 'NoneType' has no len() when trying to read default values from function: <class 'snowflake.ml.modeling.metrics.metrics_utils.register_accumulator_udtf.<locals>.Accumulator'>. Proceeding without creating optional arguments\n"
     ]
    }
   ],
   "source": [
    "# Compute correlations on the dataframe\n",
    "correlations = correlation(df=joined_data)"
   ]
  },
  {
   "cell_type": "code",
   "execution_count": 66,
   "metadata": {},
   "outputs": [
    {
     "data": {
      "image/png": "[encoded data removed]",
      "text/plain": [
       "<Figure size 700x700 with 2 Axes>"
      ]
     },
     "metadata": {},
     "output_type": "display_data"
    }
   ],
   "source": [
    "# Visualize correlation data\n",
    "mask = np.triu(np.ones_like(correlations, dtype=bool))\n",
    "plt.figure(figsize=(7, 7))\n",
    "heatmap = sns.heatmap(\n",
    "    correlations, \n",
    "    mask=mask, \n",
    "    cmap=\"YlGnBu\", \n",
    "    annot=True, \n",
    "    vmin=-1, \n",
    "    vmax=1\n",
    ")"
   ]
  }
 ],
 "metadata": {
  "kernelspec": {
   "display_name": ".venv",
   "language": "python",
   "name": "python3"
  },
  "language_info": {
   "codemirror_mode": {
    "name": "ipython",
    "version": 3
   },
   "file_extension": ".py",
   "mimetype": "text/x-python",
   "name": "python",
   "nbconvert_exporter": "python",
   "pygments_lexer": "ipython3",
   "version": "3.11.5"
  }
 },
 "nbformat": 4,
 "nbformat_minor": 2
}
