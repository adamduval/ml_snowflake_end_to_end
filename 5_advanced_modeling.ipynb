{
 "cells": [
  {
   "cell_type": "code",
   "execution_count": 3,
   "metadata": {},
   "outputs": [],
   "source": [
    "from snowflake.snowpark import Session, types as T\n",
    "from snowflake.ml.modeling.model_selection import GridSearchCV\n",
    "from snowflake.ml.modeling.metrics import mean_absolute_error\n",
    "from snowflake.ml.modeling.xgboost import XGBRegressor\n",
    "from snowflake.ml.modeling.pipeline import Pipeline\n",
    "from snowflake.ml.modeling.impute import SimpleImputer"
   ]
  },
  {
   "cell_type": "code",
   "execution_count": null,
   "metadata": {},
   "outputs": [],
   "source": [
    "# Create session connection\n",
    "session = Session.builder.config(\"connection_name\", \"mlconnection\").create()"
   ]
  },
  {
   "cell_type": "code",
   "execution_count": null,
   "metadata": {},
   "outputs": [],
   "source": [
    "# Get data from feature engineering\n",
    "category_1_df = session.table(\"category_1_feats\")"
   ]
  },
  {
   "cell_type": "code",
   "execution_count": null,
   "metadata": {},
   "outputs": [],
   "source": [
    "# Create train-test split\n",
    "train_df, test_df = category_1_df.random_split(\n",
    "    weights=[0.8, 0.2], \n",
    "    seed=8\n",
    ")"
   ]
  },
  {
   "cell_type": "code",
   "execution_count": null,
   "metadata": {},
   "outputs": [],
   "source": [
    "cat_cols = [\n",
    "    c.name for c in category_1_df.schema\n",
    "    if isinstance(c.datatype, T.StringType)\n",
    "]"
   ]
  },
  {
   "cell_type": "code",
   "execution_count": null,
   "metadata": {},
   "outputs": [],
   "source": [
    "parameters = {\n",
    "    \"n_estimators\": [100, 200, 300, 400, 500],\n",
    "    \"learning_rate\": [0.1, 0.2, 0.3, 0.4, 0.5],\n",
    "}"
   ]
  },
  {
   "cell_type": "code",
   "execution_count": null,
   "metadata": {},
   "outputs": [],
   "source": [
    "# Get current warehouse\n",
    "current_warehouse = session.get_current_warehouse()[1:-1]"
   ]
  },
  {
   "cell_type": "code",
   "execution_count": null,
   "metadata": {},
   "outputs": [],
   "source": [
    "# Increase warehouse size for training\n",
    "session.sql(\n",
    "    f\"ALTER WAREHOUSE {current_warehouse} SET WAREHOUSE_SIZE=LARGE;\"\n",
    ").collect()"
   ]
  },
  {
   "cell_type": "code",
   "execution_count": null,
   "metadata": {},
   "outputs": [],
   "source": [
    "# Build pipeline\n",
    "pipeline = Pipeline(\n",
    "    steps=[\n",
    "        (\n",
    "            \"SimpleImputer\",\n",
    "            SimpleImputer(\n",
    "                input_cols=cat_cols,\n",
    "                output_cols=cat_cols,\n",
    "                strategy=\"most_frequent\",\n",
    "                drop_input_cols=True,\n",
    "            ),\n",
    "        ),\n",
    "        (\n",
    "            \"GridSearchCV\",\n",
    "            GridSearchCV(\n",
    "                estimator=XGBRegressor(),\n",
    "                param_grid=parameters,\n",
    "                n_jobs=-1,\n",
    "                scoring=\"neg_mean_absolute_error\",\n",
    "                input_cols=train_df.drop(\"category_1_pct\", \"id\").columns,\n",
    "                label_cols=\"category_1_pct\",\n",
    "                output_cols=\"pred_category_1_pct\",\n",
    "            ),\n",
    "        ),\n",
    "    ],\n",
    ")\n",
    "\n",
    "# Train using pipeline\n",
    "pipeline.fit(train_df)"
   ]
  },
  {
   "cell_type": "code",
   "execution_count": null,
   "metadata": {},
   "outputs": [],
   "source": [
    "pred_result = pipeline.predict_proba(test_df)"
   ]
  },
  {
   "cell_type": "code",
   "execution_count": null,
   "metadata": {},
   "outputs": [],
   "source": [
    "# Switch back to small warehouse\n",
    "session.sql(\n",
    "    f\"ALTER WAREHOUSE {current_warehouse} SET WAREHOUSE_SIZE=SMALL;\"\n",
    ").collect()"
   ]
  },
  {
   "cell_type": "code",
   "execution_count": null,
   "metadata": {},
   "outputs": [],
   "source": [
    "# Calculate Mean Absolute Error (MAE)\n",
    "mae = mean_absolute_error(\n",
    "    df=pred_result, \n",
    "    y_true_col_names=\"category_1_pct\", \n",
    "    y_pred_col_names=\"pred_category_1_pct\"\n",
    ")"
   ]
  },
  {
   "cell_type": "markdown",
   "metadata": {},
   "source": [
    "# Continued in MLOPS notebook..."
   ]
  }
 ],
 "metadata": {
  "kernelspec": {
   "display_name": ".venv",
   "language": "python",
   "name": "python3"
  },
  "language_info": {
   "codemirror_mode": {
    "name": "ipython",
    "version": 3
   },
   "file_extension": ".py",
   "mimetype": "text/x-python",
   "name": "python",
   "nbconvert_exporter": "python",
   "pygments_lexer": "ipython3",
   "version": "3.11.5"
  }
 },
 "nbformat": 4,
 "nbformat_minor": 2
}
